{
  "cells": [
    {
      "cell_type": "markdown",
      "metadata": {
        "id": "view-in-github",
        "colab_type": "text"
      },
      "source": [
        "<a href=\"https://colab.research.google.com/github/AiProcess/torch_deep_rl/blob/main/02_getting_started_model_optimization.ipynb\" target=\"_parent\"><img src=\"https://colab.research.google.com/assets/colab-badge.svg\" alt=\"Open In Colab\"/></a>"
      ]
    },
    {
      "cell_type": "markdown",
      "metadata": {
        "id": "lfTzhebsz6co"
      },
      "source": [
        "\n",
        "# Getting started with model optimization\n",
        "\n",
        "**Author**: [Vincent Moens](https://github.com/vmoens)\n",
        "\n",
        "\n",
        "<div class=\"alert alert-info\"><h4>Note</h4><p>To run this tutorial in a notebook, add an installation cell\n",
        "  at the beginning containing:\n",
        "\n",
        "```\n",
        "!pip install tensordict\n",
        "!pip install torchrl</p></div>\n",
        "```\n"
      ]
    },
    {
      "cell_type": "markdown",
      "metadata": {
        "id": "BTN1xuNDz6cu"
      },
      "source": [
        "In TorchRL, we try to treat optimization as it is custom to do in PyTorch,\n",
        "using dedicated loss modules which are designed with the sole purpose of\n",
        "optimizing the model. This approach efficiently decouples the execution of\n",
        "the policy from its training and allows us to design training loops that are\n",
        "similar to what can be found in traditional supervised learning examples.\n",
        "\n",
        "The typical training loop therefore looks like this:\n",
        "\n",
        "  >>> for i in range(n_collections):\n",
        "  ...     data = get_next_batch(env, policy)\n",
        "  ...     for j in range(n_optim):\n",
        "  ...         loss = loss_fn(data)\n",
        "  ...         loss.backward()\n",
        "  ...         optim.step()\n",
        "\n",
        "In this concise tutorial, you will receive a brief overview of the loss modules. Due to the typically\n",
        "straightforward nature of the API for basic usage, this tutorial will be kept brief.\n",
        "\n",
        "## RL objective functions\n",
        "\n",
        "In RL, innovation typically involves the exploration of novel methods\n",
        "for optimizing a policy (i.e., new algorithms), rather than focusing\n",
        "on new architectures, as seen in other domains. Within TorchRL,\n",
        "these algorithms are encapsulated within loss modules. A loss\n",
        "module orchestrates the various components of your algorithm and\n",
        "yields a set of loss values that can be backpropagated\n",
        "through to train the corresponding components.\n",
        "\n",
        "In this tutorial, we will take a popular\n",
        "off-policy algorithm as an example,\n",
        "[DDPG](https://arxiv.org/abs/1509.02971).\n",
        "\n",
        "To build a loss module, the only thing one needs is a set of networks\n",
        "defined as :class:`~tensordict.nn.TensorDictModule`s. Most of the time, one\n",
        "of these modules will be the policy. Other auxiliary networks such as\n",
        "Q-Value networks or critics of some kind may be needed as well. Let's see\n",
        "what this looks like in practice: DDPG requires a deterministic\n",
        "map from the observation space to the action space as well as a value\n",
        "network that predicts the value of a state-action pair. The DDPG loss will\n",
        "attempt to find the policy parameters that output actions that maximize the\n",
        "value for a given state.\n",
        "\n",
        "To build the loss, we need both the actor and value networks.\n",
        "If they are built according to DDPG's expectations, it is all\n",
        "we need to get a trainable loss module:\n",
        "\n"
      ]
    },
    {
      "cell_type": "code",
      "execution_count": null,
      "metadata": {
        "id": "OoS4vso6z6cw"
      },
      "outputs": [],
      "source": [
        "from torchrl.envs import GymEnv\n",
        "\n",
        "env = GymEnv(\"Pendulum-v1\")\n",
        "\n",
        "from torchrl.modules import Actor, MLP, ValueOperator\n",
        "from torchrl.objectives import DDPGLoss\n",
        "\n",
        "n_obs = env.observation_spec[\"observation\"].shape[-1]\n",
        "n_act = env.action_spec.shape[-1]\n",
        "actor = Actor(MLP(in_features=n_obs, out_features=n_act, num_cells=[32, 32]))\n",
        "value_net = ValueOperator(\n",
        "    MLP(in_features=n_obs + n_act, out_features=1, num_cells=[32, 32]),\n",
        "    in_keys=[\"observation\", \"action\"],\n",
        ")\n",
        "\n",
        "ddpg_loss = DDPGLoss(actor_network=actor, value_network=value_net)"
      ]
    },
    {
      "cell_type": "markdown",
      "metadata": {
        "id": "heGC-N__z6cz"
      },
      "source": [
        "And that is it! Our loss module can now be run with data coming from the\n",
        "environment (we omit exploration, storage and other features to focus on\n",
        "the loss functionality):\n",
        "\n",
        "\n"
      ]
    },
    {
      "cell_type": "code",
      "execution_count": null,
      "metadata": {
        "id": "S3U_tWvJz6c0"
      },
      "outputs": [],
      "source": [
        "rollout = env.rollout(max_steps=100, policy=actor)\n",
        "loss_vals = ddpg_loss(rollout)\n",
        "print(loss_vals)"
      ]
    },
    {
      "cell_type": "markdown",
      "metadata": {
        "id": "fRIMKd-Dz6c1"
      },
      "source": [
        "## LossModule's output\n",
        "\n",
        "As you can see, the value we received from the loss isn't a single scalar\n",
        "but a dictionary containing multiple losses.\n",
        "\n",
        "The reason is simple: because more than one network may be trained at a time,\n",
        "and since some users may wish to separate the optimization of each module\n",
        "in distinct steps, TorchRL's objectives will return dictionaries containing\n",
        "the various loss components.\n",
        "\n",
        "This format also allows us to pass metadata along with the loss values. In\n",
        "general, we make sure that only the loss values are differentiable such that\n",
        "you can simply sum over the values of the dictionary to obtain the total\n",
        "loss. If you want to make sure you're fully in control of what is happening,\n",
        "you can sum over only the entries which keys start with the ``\"loss_\"`` prefix:\n",
        "\n",
        "\n"
      ]
    },
    {
      "cell_type": "code",
      "execution_count": null,
      "metadata": {
        "id": "7A0bo5QEz6c1"
      },
      "outputs": [],
      "source": [
        "total_loss = 0\n",
        "for key, val in loss_vals.items():\n",
        "    if key.startswith(\"loss_\"):\n",
        "        total_loss += val"
      ]
    },
    {
      "cell_type": "markdown",
      "metadata": {
        "id": "JQAooB9kz6c2"
      },
      "source": [
        "## Training a LossModule\n",
        "\n",
        "Given all this, training the modules is not so different from what would be\n",
        "done in any other training loop. Because it wraps the modules,\n",
        "the easiest way to get the list of trainable parameters is to query\n",
        "the :meth:`~torchrl.objectives.LossModule.parameters` method.\n",
        "\n",
        "We'll need an optimizer (or one optimizer\n",
        "per module if that is your choice).\n",
        "\n",
        "\n"
      ]
    },
    {
      "cell_type": "code",
      "execution_count": null,
      "metadata": {
        "id": "xHYiTDlez6c2"
      },
      "outputs": [],
      "source": [
        "from torch.optim import Adam\n",
        "\n",
        "optim = Adam(ddpg_loss.parameters())\n",
        "total_loss.backward()"
      ]
    },
    {
      "cell_type": "markdown",
      "metadata": {
        "id": "sM3GWI6Az6c3"
      },
      "source": [
        "The following items will typically be\n",
        "found in your training loop:\n",
        "\n"
      ]
    },
    {
      "cell_type": "code",
      "execution_count": null,
      "metadata": {
        "id": "4_twddYmz6c3"
      },
      "outputs": [],
      "source": [
        "optim.step()\n",
        "optim.zero_grad()"
      ]
    },
    {
      "cell_type": "markdown",
      "metadata": {
        "id": "fVMQ5K1Qz6c4"
      },
      "source": [
        "## Further considerations: Target parameters\n",
        "\n",
        "Another important aspect to consider is the presence of target parameters\n",
        "in off-policy algorithms like DDPG. Target parameters typically represent\n",
        "a delayed or smoothed version of the parameters over time, and they play\n",
        "a crucial role in value estimation during policy training. Utilizing target\n",
        "parameters for policy training often proves to be significantly more\n",
        "efficient compared to using the current configuration of value network\n",
        "parameters. Generally, managing target parameters is handled by the loss\n",
        "module, relieving users of direct concern. However, it remains the user's\n",
        "responsibility to update these values as necessary based on specific\n",
        "requirements. TorchRL offers a couple of updaters, namely\n",
        ":class:`~torchrl.objectives.HardUpdate` and\n",
        ":class:`~torchrl.objectives.SoftUpdate`,\n",
        "which can be easily instantiated without requiring in-depth\n",
        "knowledge of the underlying mechanisms of the loss module.\n",
        "\n",
        "\n"
      ]
    },
    {
      "cell_type": "code",
      "execution_count": null,
      "metadata": {
        "id": "Y9Lf62Mlz6c4"
      },
      "outputs": [],
      "source": [
        "from torchrl.objectives import SoftUpdate\n",
        "\n",
        "updater = SoftUpdate(ddpg_loss, eps=0.99)"
      ]
    },
    {
      "cell_type": "markdown",
      "metadata": {
        "id": "_RDHBPoXz6c4"
      },
      "source": [
        "In your training loop, you will need to update the target parameters at each\n",
        "optimization step or each collection step:\n",
        "\n"
      ]
    },
    {
      "cell_type": "code",
      "execution_count": null,
      "metadata": {
        "id": "No0VsKe2z6c4"
      },
      "outputs": [],
      "source": [
        "updater.step()"
      ]
    },
    {
      "cell_type": "markdown",
      "metadata": {
        "id": "qNNV2q1Yz6c5"
      },
      "source": [
        "This is all you need to know about loss modules to get started!\n",
        "\n",
        "To further explore the topic, have a look at:\n",
        "\n",
        "- The `loss module reference page <ref_objectives>`;\n",
        "- The `Coding a DDPG loss tutorial <coding_ddpg>`;\n",
        "- Losses in action in `PPO <coding_ppo>` or `DQN <coding_dqn>`.\n",
        "\n",
        "\n"
      ]
    }
  ],
  "metadata": {
    "kernelspec": {
      "display_name": "Python 3",
      "language": "python",
      "name": "python3"
    },
    "language_info": {
      "codemirror_mode": {
        "name": "ipython",
        "version": 3
      },
      "file_extension": ".py",
      "mimetype": "text/x-python",
      "name": "python",
      "nbconvert_exporter": "python",
      "pygments_lexer": "ipython3",
      "version": "3.8.19"
    },
    "colab": {
      "provenance": [],
      "toc_visible": true,
      "include_colab_link": true
    }
  },
  "nbformat": 4,
  "nbformat_minor": 0
}