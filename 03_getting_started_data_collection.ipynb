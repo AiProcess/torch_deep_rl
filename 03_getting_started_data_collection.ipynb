{
  "cells": [
    {
      "cell_type": "markdown",
      "metadata": {
        "id": "view-in-github",
        "colab_type": "text"
      },
      "source": [
        "<a href=\"https://colab.research.google.com/github/AiProcess/torch_deep_rl/blob/main/03_getting_started_data_collection.ipynb\" target=\"_parent\"><img src=\"https://colab.research.google.com/assets/colab-badge.svg\" alt=\"Open In Colab\"/></a>"
      ]
    },
    {
      "cell_type": "markdown",
      "metadata": {
        "id": "jG6cVagG1Cjz"
      },
      "source": [
        "\n",
        "# Get started with data collection and storage\n",
        "\n",
        "**Author**: [Vincent Moens](https://github.com/vmoens)\n",
        "\n",
        "\n",
        "<div class=\"alert alert-info\"><h4>Note</h4><p>To run this tutorial in a notebook, add an installation cell\n",
        "  at the beginning containing:\n",
        "\n",
        "```\n",
        "!pip install tensordict\n",
        "!pip install torchrl</p></div>\n",
        "```\n"
      ]
    },
    {
      "cell_type": "code",
      "source": [
        "!pip install tensordict\n",
        "!pip install torchrl"
      ],
      "metadata": {
        "id": "ZtbpL-S01-JN"
      },
      "execution_count": null,
      "outputs": []
    },
    {
      "cell_type": "markdown",
      "metadata": {
        "id": "pLpp13Fh1Cj6"
      },
      "source": [
        "There is no learning without data. In supervised learning, users are\n",
        "accustomed to using :class:`~torch.utils.data.DataLoader` and the like\n",
        "to integrate data in their training loop.\n",
        "Dataloaders are iterable objects that provide you with the data that you will\n",
        "be using to train your model.\n",
        "\n",
        "TorchRL approaches the problem of dataloading in a similar manner, although\n",
        "it is surprisingly unique in the ecosystem of RL libraries. TorchRL's\n",
        "dataloaders are referred to as ``DataCollectors``. Most of the time,\n",
        "data collection does not stop at the collection of raw data,\n",
        "as the data needs to be stored temporarily in a buffer\n",
        "(or equivalent structure for on-policy algorithms) before being consumed\n",
        "by the `loss module <gs_optim>`. This tutorial will explore\n",
        "these two classes.\n",
        "\n",
        "## Data collectors\n",
        "\n",
        "\n",
        "\n",
        "The primary data collector discussed here is the\n",
        ":class:`~torchrl.collectors.SyncDataCollector`, which is the focus of this\n",
        "documentation. At a fundamental level, a collector is a straightforward\n",
        "class responsible for executing your policy within the environment,\n",
        "resetting the environment when necessary, and providing batches of a\n",
        "predefined size. Unlike the :meth:`~torchrl.envs.EnvBase.rollout` method\n",
        "demonstrated in `the env tutorial <gs_env_ted>`, collectors do not\n",
        "reset between consecutive batches of data. Consequently, two successive\n",
        "batches of data may contain elements from the same trajectory.\n",
        "\n",
        "The basic arguments you need to pass to your collector are the size of the\n",
        "batches you want to collect (``frames_per_batch``), the length (possibly\n",
        "infinite) of the iterator, the policy and the environment. For simplicity,\n",
        "we will use a dummy, random policy in this example.\n",
        "\n"
      ]
    },
    {
      "cell_type": "code",
      "execution_count": 2,
      "metadata": {
        "id": "rsQ6Xau71Cj9"
      },
      "outputs": [],
      "source": [
        "import torch\n",
        "\n",
        "torch.manual_seed(0)\n",
        "\n",
        "from torchrl.collectors import SyncDataCollector\n",
        "from torchrl.envs import GymEnv\n",
        "from torchrl.envs.utils import RandomPolicy\n",
        "\n",
        "env = GymEnv(\"CartPole-v1\")\n",
        "env.set_seed(0)\n",
        "\n",
        "policy = RandomPolicy(env.action_spec)\n",
        "collector = SyncDataCollector(env, policy, frames_per_batch=200, total_frames=-1)"
      ]
    },
    {
      "cell_type": "code",
      "source": [
        "collector"
      ],
      "metadata": {
        "colab": {
          "base_uri": "https://localhost:8080/"
        },
        "id": "eVT47kcx_Zog",
        "outputId": "ada84013-e99b-452b-b85d-3913a446e2ac"
      },
      "execution_count": 3,
      "outputs": [
        {
          "output_type": "stream",
          "name": "stderr",
          "text": [
            "/usr/local/lib/python3.10/dist-packages/ipykernel/ipkernel.py:283: DeprecationWarning: `should_run_async` will not call `transform_cell` automatically in the future. Please pass the result to `transformed_cell` argument and any exception that happen during thetransform in `preprocessing_exc_tuple` in IPython 7.17 and above.\n",
            "  and should_run_async(code)\n"
          ]
        },
        {
          "output_type": "execute_result",
          "data": {
            "text/plain": [
              "SyncDataCollector(\n",
              "    env=GymEnv(env=CartPole-v1, batch_size=torch.Size([]), device=None),\n",
              "    policy=_NonParametricPolicyWrapper(),\n",
              "    td_out=TensorDict(\n",
              "        fields={\n",
              "            action: Tensor(shape=torch.Size([200, 2]), device=cpu, dtype=torch.int64, is_shared=False),\n",
              "            collector: TensorDict(\n",
              "                fields={\n",
              "                    traj_ids: Tensor(shape=torch.Size([200]), device=cpu, dtype=torch.int64, is_shared=False)},\n",
              "                batch_size=torch.Size([200]),\n",
              "                device=None,\n",
              "                is_shared=False),\n",
              "            done: Tensor(shape=torch.Size([200, 1]), device=cpu, dtype=torch.bool, is_shared=False),\n",
              "            next: TensorDict(\n",
              "                fields={\n",
              "                    done: Tensor(shape=torch.Size([200, 1]), device=cpu, dtype=torch.bool, is_shared=False),\n",
              "                    observation: Tensor(shape=torch.Size([200, 4]), device=cpu, dtype=torch.float32, is_shared=False),\n",
              "                    reward: Tensor(shape=torch.Size([200, 1]), device=cpu, dtype=torch.float32, is_shared=False),\n",
              "                    terminated: Tensor(shape=torch.Size([200, 1]), device=cpu, dtype=torch.bool, is_shared=False),\n",
              "                    truncated: Tensor(shape=torch.Size([200, 1]), device=cpu, dtype=torch.bool, is_shared=False)},\n",
              "                batch_size=torch.Size([200]),\n",
              "                device=None,\n",
              "                is_shared=False),\n",
              "            observation: Tensor(shape=torch.Size([200, 4]), device=cpu, dtype=torch.float32, is_shared=False),\n",
              "            terminated: Tensor(shape=torch.Size([200, 1]), device=cpu, dtype=torch.bool, is_shared=False),\n",
              "            truncated: Tensor(shape=torch.Size([200, 1]), device=cpu, dtype=torch.bool, is_shared=False)},\n",
              "        batch_size=torch.Size([200]),\n",
              "        device=None,\n",
              "        is_shared=False),\n",
              "exploration=InteractionType.RANDOM)"
            ]
          },
          "metadata": {},
          "execution_count": 3
        }
      ]
    },
    {
      "cell_type": "markdown",
      "metadata": {
        "id": "2P6dZ4fL1CkA"
      },
      "source": [
        "We now expect that our collector will deliver batches of size ``200`` no\n",
        "matter what happens during collection. In other words, we may have multiple\n",
        "trajectories in this batch! The ``total_frames`` indicates how long the\n",
        "collector should be. A value of ``-1`` will produce a never\n",
        "ending collector.\n",
        "\n",
        "Let's iterate over the collector to get a sense\n",
        "of what this data looks like:\n",
        "\n"
      ]
    },
    {
      "cell_type": "code",
      "execution_count": 9,
      "metadata": {
        "id": "vgbPuFG91CkB",
        "colab": {
          "base_uri": "https://localhost:8080/"
        },
        "outputId": "28d12987-d063-406b-84d0-bf20b690c275"
      },
      "outputs": [
        {
          "output_type": "stream",
          "name": "stdout",
          "text": [
            "TensorDict(\n",
            "    fields={\n",
            "        action: Tensor(shape=torch.Size([200, 2]), device=cpu, dtype=torch.int64, is_shared=False),\n",
            "        collector: TensorDict(\n",
            "            fields={\n",
            "                traj_ids: Tensor(shape=torch.Size([200]), device=cpu, dtype=torch.int64, is_shared=False)},\n",
            "            batch_size=torch.Size([200]),\n",
            "            device=None,\n",
            "            is_shared=False),\n",
            "        done: Tensor(shape=torch.Size([200, 1]), device=cpu, dtype=torch.bool, is_shared=False),\n",
            "        next: TensorDict(\n",
            "            fields={\n",
            "                done: Tensor(shape=torch.Size([200, 1]), device=cpu, dtype=torch.bool, is_shared=False),\n",
            "                observation: Tensor(shape=torch.Size([200, 4]), device=cpu, dtype=torch.float32, is_shared=False),\n",
            "                reward: Tensor(shape=torch.Size([200, 1]), device=cpu, dtype=torch.float32, is_shared=False),\n",
            "                terminated: Tensor(shape=torch.Size([200, 1]), device=cpu, dtype=torch.bool, is_shared=False),\n",
            "                truncated: Tensor(shape=torch.Size([200, 1]), device=cpu, dtype=torch.bool, is_shared=False)},\n",
            "            batch_size=torch.Size([200]),\n",
            "            device=None,\n",
            "            is_shared=False),\n",
            "        observation: Tensor(shape=torch.Size([200, 4]), device=cpu, dtype=torch.float32, is_shared=False),\n",
            "        terminated: Tensor(shape=torch.Size([200, 1]), device=cpu, dtype=torch.bool, is_shared=False),\n",
            "        truncated: Tensor(shape=torch.Size([200, 1]), device=cpu, dtype=torch.bool, is_shared=False)},\n",
            "    batch_size=torch.Size([200]),\n",
            "    device=None,\n",
            "    is_shared=False)\n"
          ]
        }
      ],
      "source": [
        "for data in collector:\n",
        "    print(data)\n",
        "    break"
      ]
    },
    {
      "cell_type": "markdown",
      "metadata": {
        "id": "BA-aGliw1CkD"
      },
      "source": [
        "As you can see, our data is augmented with some collector-specific metadata\n",
        "grouped in a ``\"collector\"`` sub-tensordict that we did not see during\n",
        "`environment rollouts <gs_env_ted_rollout>`. This is useful to keep track of\n",
        "the trajectory ids. In the following list, each item marks the trajectory\n",
        "number the corresponding transition belongs to:\n",
        "\n"
      ]
    },
    {
      "cell_type": "code",
      "execution_count": 11,
      "metadata": {
        "id": "oUiwi2Yg1CkE",
        "colab": {
          "base_uri": "https://localhost:8080/"
        },
        "outputId": "3809f4ab-317a-455d-a07a-870974bf470a"
      },
      "outputs": [
        {
          "output_type": "stream",
          "name": "stdout",
          "text": [
            "tensor([ 9,  9, 10, 10, 10, 10, 10, 10, 10, 10, 10, 10, 10, 10, 10, 10, 10, 10,\n",
            "        10, 11, 11, 11, 11, 11, 11, 11, 11, 11, 11, 11, 11, 11, 11, 11, 11, 11,\n",
            "        11, 11, 11, 11, 11, 11, 11, 12, 12, 12, 12, 12, 12, 12, 12, 12, 12, 12,\n",
            "        12, 12, 12, 13, 13, 13, 13, 13, 13, 13, 13, 13, 13, 13, 13, 13, 13, 13,\n",
            "        13, 13, 13, 13, 13, 13, 13, 13, 13, 13, 13, 13, 13, 13, 13, 13, 13, 13,\n",
            "        13, 13, 13, 13, 13, 13, 13, 13, 13, 13, 13, 13, 13, 13, 13, 13, 13, 13,\n",
            "        13, 13, 13, 13, 14, 14, 14, 14, 14, 14, 14, 14, 15, 15, 15, 15, 15, 15,\n",
            "        15, 15, 15, 15, 15, 15, 15, 15, 15, 15, 15, 15, 16, 16, 16, 16, 16, 16,\n",
            "        16, 16, 16, 16, 16, 16, 16, 16, 17, 17, 17, 17, 17, 17, 17, 17, 17, 17,\n",
            "        17, 17, 17, 17, 17, 17, 18, 18, 18, 18, 18, 18, 18, 18, 18, 18, 18, 18,\n",
            "        18, 18, 18, 18, 18, 18, 18, 19, 19, 19, 19, 19, 19, 19, 19, 19, 19, 19,\n",
            "        20, 20])\n"
          ]
        }
      ],
      "source": [
        "print(data[\"collector\", \"traj_ids\"])"
      ]
    },
    {
      "cell_type": "markdown",
      "metadata": {
        "id": "m_TH4NNc1CkF"
      },
      "source": [
        "Data collectors are very useful when it comes to coding state-of-the-art\n",
        "algorithms, as performance is usually measured by the capability of a\n",
        "specific technique to solve a problem in a given number of interactions with\n",
        "the environment (the ``total_frames`` argument in the collector).\n",
        "For this reason, most training loops in our examples look like this:\n",
        "\n",
        "```\n",
        "  >>> for data in collector:\n",
        "  ...     # your algorithm here\n",
        "```\n",
        "\n",
        "## Replay Buffers\n",
        "\n",
        "\n",
        "Now that we have explored how to collect data, we would like to know how to\n",
        "store it. In RL, the typical setting is that the data is collected, stored\n",
        "temporarily and cleared after a little while given some heuristic:\n",
        "first-in first-out or other. A typical pseudo-code would look like this:\n",
        "\n",
        "```\n",
        "  >>> for data in collector:\n",
        "  ...     storage.store(data)\n",
        "  ...     for i in range(n_optim):\n",
        "  ...         sample = storage.sample()\n",
        "  ...         loss_val = loss_fn(sample)\n",
        "  ...         loss_val.backward()\n",
        "  ...         optim.step() # etc\n",
        "```\n",
        "\n",
        "The parent class that stores the data in TorchRL\n",
        "is referred to as :class:`~torchrl.data.ReplayBuffer`. TorchRL's replay\n",
        "buffers are composable: you can edit the storage type, their sampling\n",
        "technique, the writing heuristic or the transforms applied to them. We will\n",
        "leave the fancy stuff for a dedicated in-depth tutorial. The generic replay\n",
        "buffer only needs to know what storage it has to use. In general, we\n",
        "recommend a :class:`~torchrl.data.TensorStorage` subclass, which will work\n",
        "fine in most cases. We'll be using\n",
        ":class:`~torchrl.data.replay_buffers.LazyMemmapStorage`\n",
        "in this tutorial, which enjoys two nice properties: first, being \"lazy\",\n",
        "you don't  need to explicitly tell it what your data looks like in advance.\n",
        "Second, it uses :class:`~tensordict.MemoryMappedTensor` as a backend to save\n",
        "your data on disk in an efficient way. The only thing you need to know is\n",
        "how big you want your buffer to be.\n",
        "\n"
      ]
    },
    {
      "cell_type": "code",
      "execution_count": 6,
      "metadata": {
        "id": "vVfV9f0p1CkG"
      },
      "outputs": [],
      "source": [
        "from torchrl.data.replay_buffers import LazyMemmapStorage, ReplayBuffer\n",
        "\n",
        "buffer = ReplayBuffer(storage=LazyMemmapStorage(max_size=1000))"
      ]
    },
    {
      "cell_type": "code",
      "source": [
        "buffer"
      ],
      "metadata": {
        "colab": {
          "base_uri": "https://localhost:8080/"
        },
        "id": "pZVHLXcs3tbq",
        "outputId": "b79ca19f-a617-415c-d53c-a1786d9443d0"
      },
      "execution_count": 8,
      "outputs": [
        {
          "output_type": "execute_result",
          "data": {
            "text/plain": [
              "ReplayBuffer(\n",
              "    storage=LazyMemmapStorage(\n",
              "        data=<empty>, \n",
              "        shape=None, \n",
              "        len=0, \n",
              "        max_size=1000), \n",
              "    sampler=RandomSampler(), \n",
              "    writer=RoundRobinWriter(cursor=0, full_storage=False), \n",
              "    batch_size=None, \n",
              "    collate_fn=<function _collate_id at 0x78e63d0a0670>)"
            ]
          },
          "metadata": {},
          "execution_count": 8
        }
      ]
    },
    {
      "cell_type": "markdown",
      "metadata": {
        "id": "6hG5kpKn1CkH"
      },
      "source": [
        "Populating the buffer can be done via the\n",
        ":meth:`~torchrl.data.ReplayBuffer.add` (single element) or\n",
        ":meth:`~torchrl.data.ReplayBuffer.extend` (multiple elements) methods. Using\n",
        "the data we just collected, we initialize and populate the buffer in one go:\n",
        "\n"
      ]
    },
    {
      "cell_type": "code",
      "execution_count": 15,
      "metadata": {
        "id": "YxC_UCrV1CkH"
      },
      "outputs": [],
      "source": [
        "indices = buffer.extend(data)"
      ]
    },
    {
      "cell_type": "code",
      "source": [
        "indices"
      ],
      "metadata": {
        "colab": {
          "base_uri": "https://localhost:8080/"
        },
        "id": "nnMMp2AG4iam",
        "outputId": "c30d80d9-1f6a-4f2d-d7bc-5863b4f182e5"
      },
      "execution_count": 16,
      "outputs": [
        {
          "output_type": "execute_result",
          "data": {
            "text/plain": [
              "tensor([200, 201, 202, 203, 204, 205, 206, 207, 208, 209, 210, 211, 212, 213,\n",
              "        214, 215, 216, 217, 218, 219, 220, 221, 222, 223, 224, 225, 226, 227,\n",
              "        228, 229, 230, 231, 232, 233, 234, 235, 236, 237, 238, 239, 240, 241,\n",
              "        242, 243, 244, 245, 246, 247, 248, 249, 250, 251, 252, 253, 254, 255,\n",
              "        256, 257, 258, 259, 260, 261, 262, 263, 264, 265, 266, 267, 268, 269,\n",
              "        270, 271, 272, 273, 274, 275, 276, 277, 278, 279, 280, 281, 282, 283,\n",
              "        284, 285, 286, 287, 288, 289, 290, 291, 292, 293, 294, 295, 296, 297,\n",
              "        298, 299, 300, 301, 302, 303, 304, 305, 306, 307, 308, 309, 310, 311,\n",
              "        312, 313, 314, 315, 316, 317, 318, 319, 320, 321, 322, 323, 324, 325,\n",
              "        326, 327, 328, 329, 330, 331, 332, 333, 334, 335, 336, 337, 338, 339,\n",
              "        340, 341, 342, 343, 344, 345, 346, 347, 348, 349, 350, 351, 352, 353,\n",
              "        354, 355, 356, 357, 358, 359, 360, 361, 362, 363, 364, 365, 366, 367,\n",
              "        368, 369, 370, 371, 372, 373, 374, 375, 376, 377, 378, 379, 380, 381,\n",
              "        382, 383, 384, 385, 386, 387, 388, 389, 390, 391, 392, 393, 394, 395,\n",
              "        396, 397, 398, 399])"
            ]
          },
          "metadata": {},
          "execution_count": 16
        }
      ]
    },
    {
      "cell_type": "markdown",
      "metadata": {
        "id": "wyTEMb8x1CkI"
      },
      "source": [
        "We can check that the buffer now has the same number of elements than what\n",
        "we got from the collector:\n",
        "\n"
      ]
    },
    {
      "cell_type": "code",
      "execution_count": null,
      "metadata": {
        "id": "mCCCfUDC1CkI"
      },
      "outputs": [],
      "source": [
        "assert len(buffer) == collector.frames_per_batch"
      ]
    },
    {
      "cell_type": "markdown",
      "metadata": {
        "id": "y-sbyo-I1CkI"
      },
      "source": [
        "The only thing left to know is how to gather data from the buffer.\n",
        "Naturally, this relies on the :meth:`~torchrl.data.ReplayBuffer.sample`\n",
        "method. Because we did not specify that sampling had to be done without\n",
        "repetitions, it is not guaranteed that the samples gathered from our buffer\n",
        "will be unique:\n",
        "\n"
      ]
    },
    {
      "cell_type": "code",
      "execution_count": 20,
      "metadata": {
        "id": "5oTgarNQ1CkJ",
        "colab": {
          "base_uri": "https://localhost:8080/"
        },
        "outputId": "7d26c5b2-fe06-4ff1-9585-3d04fd0853eb"
      },
      "outputs": [
        {
          "output_type": "stream",
          "name": "stdout",
          "text": [
            "TensorDict(\n",
            "    fields={\n",
            "        action: Tensor(shape=torch.Size([30, 2]), device=cpu, dtype=torch.int64, is_shared=False),\n",
            "        collector: TensorDict(\n",
            "            fields={\n",
            "                traj_ids: Tensor(shape=torch.Size([30]), device=cpu, dtype=torch.int64, is_shared=False)},\n",
            "            batch_size=torch.Size([30]),\n",
            "            device=cpu,\n",
            "            is_shared=False),\n",
            "        done: Tensor(shape=torch.Size([30, 1]), device=cpu, dtype=torch.bool, is_shared=False),\n",
            "        next: TensorDict(\n",
            "            fields={\n",
            "                done: Tensor(shape=torch.Size([30, 1]), device=cpu, dtype=torch.bool, is_shared=False),\n",
            "                observation: Tensor(shape=torch.Size([30, 4]), device=cpu, dtype=torch.float32, is_shared=False),\n",
            "                reward: Tensor(shape=torch.Size([30, 1]), device=cpu, dtype=torch.float32, is_shared=False),\n",
            "                terminated: Tensor(shape=torch.Size([30, 1]), device=cpu, dtype=torch.bool, is_shared=False),\n",
            "                truncated: Tensor(shape=torch.Size([30, 1]), device=cpu, dtype=torch.bool, is_shared=False)},\n",
            "            batch_size=torch.Size([30]),\n",
            "            device=cpu,\n",
            "            is_shared=False),\n",
            "        observation: Tensor(shape=torch.Size([30, 4]), device=cpu, dtype=torch.float32, is_shared=False),\n",
            "        terminated: Tensor(shape=torch.Size([30, 1]), device=cpu, dtype=torch.bool, is_shared=False),\n",
            "        truncated: Tensor(shape=torch.Size([30, 1]), device=cpu, dtype=torch.bool, is_shared=False)},\n",
            "    batch_size=torch.Size([30]),\n",
            "    device=cpu,\n",
            "    is_shared=False)\n"
          ]
        }
      ],
      "source": [
        "sample = buffer.sample(batch_size=30)\n",
        "print(sample)"
      ]
    },
    {
      "cell_type": "markdown",
      "metadata": {
        "id": "tdZOVLxY1CkJ"
      },
      "source": [
        "Again, our sample looks exactly the same as the data we gathered from the\n",
        "collector!\n",
        "\n",
        "## Next steps\n",
        "\n",
        "- You can have look at other multirpocessed\n",
        "  collectors such as :class:`~torchrl.collectors.collectors.MultiSyncDataCollector` or\n",
        "  :class:`~torchrl.collectors.collectors.MultiaSyncDataCollector`.\n",
        "- TorchRL also offers distributed collectors if you have multiple nodes to\n",
        "  use for inference. Check them out in the\n",
        "  `API reference <ref_collectors>`.\n",
        "- Check the dedicated `Replay Buffer tutorial <rb_tuto>` to know\n",
        "  more about the options you have when building a buffer, or the\n",
        "  `API reference <ref_data>` which covers all the features in\n",
        "  details. Replay buffers have countless features such as multithreaded\n",
        "  sampling, prioritized experience replay, and many more...\n",
        "- We left out the capacity of replay buffers to be iterated over for\n",
        "  simplicity. Try it out for yourself: build a buffer and indicate its\n",
        "  batch-size in the constructor, then try to iterate over it. This is\n",
        "  equivalent to calling ``rb.sample()`` within a loop!\n",
        "\n",
        "\n"
      ]
    }
  ],
  "metadata": {
    "kernelspec": {
      "display_name": "Python 3",
      "name": "python3"
    },
    "language_info": {
      "codemirror_mode": {
        "name": "ipython",
        "version": 3
      },
      "file_extension": ".py",
      "mimetype": "text/x-python",
      "name": "python",
      "nbconvert_exporter": "python",
      "pygments_lexer": "ipython3",
      "version": "3.8.19"
    },
    "colab": {
      "provenance": [],
      "toc_visible": true,
      "include_colab_link": true
    }
  },
  "nbformat": 4,
  "nbformat_minor": 0
}