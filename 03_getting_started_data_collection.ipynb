{
  "cells": [
    {
      "cell_type": "markdown",
      "metadata": {
        "id": "view-in-github",
        "colab_type": "text"
      },
      "source": [
        "<a href=\"https://colab.research.google.com/github/AiProcess/torch_deep_rl/blob/main/03_getting_started_data_collection.ipynb\" target=\"_parent\"><img src=\"https://colab.research.google.com/assets/colab-badge.svg\" alt=\"Open In Colab\"/></a>"
      ]
    },
    {
      "cell_type": "markdown",
      "metadata": {
        "id": "jG6cVagG1Cjz"
      },
      "source": [
        "\n",
        "# Get started with data collection and storage\n",
        "\n",
        "**Author**: [Vincent Moens](https://github.com/vmoens)\n",
        "\n",
        "\n",
        "<div class=\"alert alert-info\"><h4>Note</h4><p>To run this tutorial in a notebook, add an installation cell\n",
        "  at the beginning containing:\n",
        "\n",
        "```\n",
        "!pip install tensordict\n",
        "!pip install torchrl</p></div>\n",
        "```\n"
      ]
    },
    {
      "cell_type": "markdown",
      "metadata": {
        "id": "pLpp13Fh1Cj6"
      },
      "source": [
        "There is no learning without data. In supervised learning, users are\n",
        "accustomed to using :class:`~torch.utils.data.DataLoader` and the like\n",
        "to integrate data in their training loop.\n",
        "Dataloaders are iterable objects that provide you with the data that you will\n",
        "be using to train your model.\n",
        "\n",
        "TorchRL approaches the problem of dataloading in a similar manner, although\n",
        "it is surprisingly unique in the ecosystem of RL libraries. TorchRL's\n",
        "dataloaders are referred to as ``DataCollectors``. Most of the time,\n",
        "data collection does not stop at the collection of raw data,\n",
        "as the data needs to be stored temporarily in a buffer\n",
        "(or equivalent structure for on-policy algorithms) before being consumed\n",
        "by the `loss module <gs_optim>`. This tutorial will explore\n",
        "these two classes.\n",
        "\n",
        "## Data collectors\n",
        "\n",
        "\n",
        "\n",
        "The primary data collector discussed here is the\n",
        ":class:`~torchrl.collectors.SyncDataCollector`, which is the focus of this\n",
        "documentation. At a fundamental level, a collector is a straightforward\n",
        "class responsible for executing your policy within the environment,\n",
        "resetting the environment when necessary, and providing batches of a\n",
        "predefined size. Unlike the :meth:`~torchrl.envs.EnvBase.rollout` method\n",
        "demonstrated in `the env tutorial <gs_env_ted>`, collectors do not\n",
        "reset between consecutive batches of data. Consequently, two successive\n",
        "batches of data may contain elements from the same trajectory.\n",
        "\n",
        "The basic arguments you need to pass to your collector are the size of the\n",
        "batches you want to collect (``frames_per_batch``), the length (possibly\n",
        "infinite) of the iterator, the policy and the environment. For simplicity,\n",
        "we will use a dummy, random policy in this example.\n",
        "\n"
      ]
    },
    {
      "cell_type": "code",
      "execution_count": null,
      "metadata": {
        "id": "rsQ6Xau71Cj9"
      },
      "outputs": [],
      "source": [
        "import torch\n",
        "\n",
        "torch.manual_seed(0)\n",
        "\n",
        "from torchrl.collectors import SyncDataCollector\n",
        "from torchrl.envs import GymEnv\n",
        "from torchrl.envs.utils import RandomPolicy\n",
        "\n",
        "env = GymEnv(\"CartPole-v1\")\n",
        "env.set_seed(0)\n",
        "\n",
        "policy = RandomPolicy(env.action_spec)\n",
        "collector = SyncDataCollector(env, policy, frames_per_batch=200, total_frames=-1)"
      ]
    },
    {
      "cell_type": "markdown",
      "metadata": {
        "id": "2P6dZ4fL1CkA"
      },
      "source": [
        "We now expect that our collector will deliver batches of size ``200`` no\n",
        "matter what happens during collection. In other words, we may have multiple\n",
        "trajectories in this batch! The ``total_frames`` indicates how long the\n",
        "collector should be. A value of ``-1`` will produce a never\n",
        "ending collector.\n",
        "\n",
        "Let's iterate over the collector to get a sense\n",
        "of what this data looks like:\n",
        "\n"
      ]
    },
    {
      "cell_type": "code",
      "execution_count": null,
      "metadata": {
        "id": "vgbPuFG91CkB"
      },
      "outputs": [],
      "source": [
        "for data in collector:\n",
        "    print(data)\n",
        "    break"
      ]
    },
    {
      "cell_type": "markdown",
      "metadata": {
        "id": "BA-aGliw1CkD"
      },
      "source": [
        "As you can see, our data is augmented with some collector-specific metadata\n",
        "grouped in a ``\"collector\"`` sub-tensordict that we did not see during\n",
        "`environment rollouts <gs_env_ted_rollout>`. This is useful to keep track of\n",
        "the trajectory ids. In the following list, each item marks the trajectory\n",
        "number the corresponding transition belongs to:\n",
        "\n"
      ]
    },
    {
      "cell_type": "code",
      "execution_count": null,
      "metadata": {
        "id": "oUiwi2Yg1CkE"
      },
      "outputs": [],
      "source": [
        "print(data[\"collector\", \"traj_ids\"])"
      ]
    },
    {
      "cell_type": "markdown",
      "metadata": {
        "id": "m_TH4NNc1CkF"
      },
      "source": [
        "Data collectors are very useful when it comes to coding state-of-the-art\n",
        "algorithms, as performance is usually measured by the capability of a\n",
        "specific technique to solve a problem in a given number of interactions with\n",
        "the environment (the ``total_frames`` argument in the collector).\n",
        "For this reason, most training loops in our examples look like this:\n",
        "\n",
        "  >>> for data in collector:\n",
        "  ...     # your algorithm here\n",
        "\n",
        "\n",
        "## Replay Buffers\n",
        "\n",
        "\n",
        "Now that we have explored how to collect data, we would like to know how to\n",
        "store it. In RL, the typical setting is that the data is collected, stored\n",
        "temporarily and cleared after a little while given some heuristic:\n",
        "first-in first-out or other. A typical pseudo-code would look like this:\n",
        "\n",
        "  >>> for data in collector:\n",
        "  ...     storage.store(data)\n",
        "  ...     for i in range(n_optim):\n",
        "  ...         sample = storage.sample()\n",
        "  ...         loss_val = loss_fn(sample)\n",
        "  ...         loss_val.backward()\n",
        "  ...         optim.step() # etc\n",
        "\n",
        "The parent class that stores the data in TorchRL\n",
        "is referred to as :class:`~torchrl.data.ReplayBuffer`. TorchRL's replay\n",
        "buffers are composable: you can edit the storage type, their sampling\n",
        "technique, the writing heuristic or the transforms applied to them. We will\n",
        "leave the fancy stuff for a dedicated in-depth tutorial. The generic replay\n",
        "buffer only needs to know what storage it has to use. In general, we\n",
        "recommend a :class:`~torchrl.data.TensorStorage` subclass, which will work\n",
        "fine in most cases. We'll be using\n",
        ":class:`~torchrl.data.replay_buffers.LazyMemmapStorage`\n",
        "in this tutorial, which enjoys two nice properties: first, being \"lazy\",\n",
        "you don't  need to explicitly tell it what your data looks like in advance.\n",
        "Second, it uses :class:`~tensordict.MemoryMappedTensor` as a backend to save\n",
        "your data on disk in an efficient way. The only thing you need to know is\n",
        "how big you want your buffer to be.\n",
        "\n"
      ]
    },
    {
      "cell_type": "code",
      "execution_count": null,
      "metadata": {
        "id": "vVfV9f0p1CkG"
      },
      "outputs": [],
      "source": [
        "from torchrl.data.replay_buffers import LazyMemmapStorage, ReplayBuffer\n",
        "\n",
        "buffer = ReplayBuffer(storage=LazyMemmapStorage(max_size=1000))"
      ]
    },
    {
      "cell_type": "markdown",
      "metadata": {
        "id": "6hG5kpKn1CkH"
      },
      "source": [
        "Populating the buffer can be done via the\n",
        ":meth:`~torchrl.data.ReplayBuffer.add` (single element) or\n",
        ":meth:`~torchrl.data.ReplayBuffer.extend` (multiple elements) methods. Using\n",
        "the data we just collected, we initialize and populate the buffer in one go:\n",
        "\n"
      ]
    },
    {
      "cell_type": "code",
      "execution_count": null,
      "metadata": {
        "id": "YxC_UCrV1CkH"
      },
      "outputs": [],
      "source": [
        "indices = buffer.extend(data)"
      ]
    },
    {
      "cell_type": "markdown",
      "metadata": {
        "id": "wyTEMb8x1CkI"
      },
      "source": [
        "We can check that the buffer now has the same number of elements than what\n",
        "we got from the collector:\n",
        "\n"
      ]
    },
    {
      "cell_type": "code",
      "execution_count": null,
      "metadata": {
        "id": "mCCCfUDC1CkI"
      },
      "outputs": [],
      "source": [
        "assert len(buffer) == collector.frames_per_batch"
      ]
    },
    {
      "cell_type": "markdown",
      "metadata": {
        "id": "y-sbyo-I1CkI"
      },
      "source": [
        "The only thing left to know is how to gather data from the buffer.\n",
        "Naturally, this relies on the :meth:`~torchrl.data.ReplayBuffer.sample`\n",
        "method. Because we did not specify that sampling had to be done without\n",
        "repetitions, it is not guaranteed that the samples gathered from our buffer\n",
        "will be unique:\n",
        "\n"
      ]
    },
    {
      "cell_type": "code",
      "execution_count": null,
      "metadata": {
        "id": "5oTgarNQ1CkJ"
      },
      "outputs": [],
      "source": [
        "sample = buffer.sample(batch_size=30)\n",
        "print(sample)"
      ]
    },
    {
      "cell_type": "markdown",
      "metadata": {
        "id": "tdZOVLxY1CkJ"
      },
      "source": [
        "Again, our sample looks exactly the same as the data we gathered from the\n",
        "collector!\n",
        "\n",
        "## Next steps\n",
        "\n",
        "- You can have look at other multirpocessed\n",
        "  collectors such as :class:`~torchrl.collectors.collectors.MultiSyncDataCollector` or\n",
        "  :class:`~torchrl.collectors.collectors.MultiaSyncDataCollector`.\n",
        "- TorchRL also offers distributed collectors if you have multiple nodes to\n",
        "  use for inference. Check them out in the\n",
        "  `API reference <ref_collectors>`.\n",
        "- Check the dedicated `Replay Buffer tutorial <rb_tuto>` to know\n",
        "  more about the options you have when building a buffer, or the\n",
        "  `API reference <ref_data>` which covers all the features in\n",
        "  details. Replay buffers have countless features such as multithreaded\n",
        "  sampling, prioritized experience replay, and many more...\n",
        "- We left out the capacity of replay buffers to be iterated over for\n",
        "  simplicity. Try it out for yourself: build a buffer and indicate its\n",
        "  batch-size in the constructor, then try to iterate over it. This is\n",
        "  equivalent to calling ``rb.sample()`` within a loop!\n",
        "\n",
        "\n"
      ]
    }
  ],
  "metadata": {
    "kernelspec": {
      "display_name": "Python 3",
      "language": "python",
      "name": "python3"
    },
    "language_info": {
      "codemirror_mode": {
        "name": "ipython",
        "version": 3
      },
      "file_extension": ".py",
      "mimetype": "text/x-python",
      "name": "python",
      "nbconvert_exporter": "python",
      "pygments_lexer": "ipython3",
      "version": "3.8.19"
    },
    "colab": {
      "provenance": [],
      "toc_visible": true,
      "include_colab_link": true
    }
  },
  "nbformat": 4,
  "nbformat_minor": 0
}